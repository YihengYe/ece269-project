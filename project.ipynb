{
 "cells": [
  {
   "cell_type": "code",
   "execution_count": 31,
   "id": "cfa50b0d",
   "metadata": {},
   "outputs": [],
   "source": [
    "import pandas as pd\n",
    "import numpy as np\n",
    "import matplotlib.pyplot as plt\n",
    "import tensorflow as tf\n",
    "from tensorflow import keras"
   ]
  },
  {
   "cell_type": "code",
   "execution_count": 2,
   "id": "852b7210",
   "metadata": {},
   "outputs": [],
   "source": [
    "df=pd.read_csv('MET_OBSERVE_MESSAGE.txt')"
   ]
  },
  {
   "cell_type": "code",
   "execution_count": 3,
   "id": "3542c808",
   "metadata": {},
   "outputs": [
    {
     "data": {
      "text/html": [
       "<div>\n",
       "<style scoped>\n",
       "    .dataframe tbody tr th:only-of-type {\n",
       "        vertical-align: middle;\n",
       "    }\n",
       "\n",
       "    .dataframe tbody tr th {\n",
       "        vertical-align: top;\n",
       "    }\n",
       "\n",
       "    .dataframe thead th {\n",
       "        text-align: right;\n",
       "    }\n",
       "</style>\n",
       "<table border=\"1\" class=\"dataframe\">\n",
       "  <thead>\n",
       "    <tr style=\"text-align: right;\">\n",
       "      <th></th>\n",
       "      <th>站号</th>\n",
       "      <th>站名</th>\n",
       "      <th>时间</th>\n",
       "      <th>气温</th>\n",
       "      <th>降水</th>\n",
       "      <th>气压</th>\n",
       "      <th>风向</th>\n",
       "      <th>风速</th>\n",
       "      <th>湿度</th>\n",
       "    </tr>\n",
       "  </thead>\n",
       "  <tbody>\n",
       "    <tr>\n",
       "      <th>0</th>\n",
       "      <td>59242</td>\n",
       "      <td>来宾</td>\n",
       "      <td>2018-12-14 20:00:00.0</td>\n",
       "      <td>9.6</td>\n",
       "      <td>0.0</td>\n",
       "      <td>1028.6</td>\n",
       "      <td>36.0</td>\n",
       "      <td>2.0</td>\n",
       "      <td>79.0</td>\n",
       "    </tr>\n",
       "    <tr>\n",
       "      <th>1</th>\n",
       "      <td>45005</td>\n",
       "      <td>香港</td>\n",
       "      <td>2018-12-14 20:00:00.0</td>\n",
       "      <td>17.3</td>\n",
       "      <td>0.0</td>\n",
       "      <td>1025.7</td>\n",
       "      <td>6.0</td>\n",
       "      <td>1.0</td>\n",
       "      <td>70.0</td>\n",
       "    </tr>\n",
       "    <tr>\n",
       "      <th>2</th>\n",
       "      <td>59567</td>\n",
       "      <td>兰屿</td>\n",
       "      <td>2018-12-14 20:00:00.0</td>\n",
       "      <td>19.6</td>\n",
       "      <td>NaN</td>\n",
       "      <td>1023.3</td>\n",
       "      <td>2.0</td>\n",
       "      <td>6.0</td>\n",
       "      <td>100.0</td>\n",
       "    </tr>\n",
       "    <tr>\n",
       "      <th>3</th>\n",
       "      <td>59562</td>\n",
       "      <td>台东</td>\n",
       "      <td>2018-12-14 20:00:00.0</td>\n",
       "      <td>21.5</td>\n",
       "      <td>0.0</td>\n",
       "      <td>1025.4</td>\n",
       "      <td>36.0</td>\n",
       "      <td>1.0</td>\n",
       "      <td>72.0</td>\n",
       "    </tr>\n",
       "    <tr>\n",
       "      <th>4</th>\n",
       "      <td>59559</td>\n",
       "      <td>恒春</td>\n",
       "      <td>2018-12-14 20:00:00.0</td>\n",
       "      <td>22.8</td>\n",
       "      <td>0.0</td>\n",
       "      <td>1022.8</td>\n",
       "      <td>2.0</td>\n",
       "      <td>6.0</td>\n",
       "      <td>74.0</td>\n",
       "    </tr>\n",
       "  </tbody>\n",
       "</table>\n",
       "</div>"
      ],
      "text/plain": [
       "      站号  站名                     时间    气温   降水      气压    风向   风速     湿度\n",
       "0  59242  来宾  2018-12-14 20:00:00.0   9.6  0.0  1028.6  36.0  2.0   79.0\n",
       "1  45005  香港  2018-12-14 20:00:00.0  17.3  0.0  1025.7   6.0  1.0   70.0\n",
       "2  59567  兰屿  2018-12-14 20:00:00.0  19.6  NaN  1023.3   2.0  6.0  100.0\n",
       "3  59562  台东  2018-12-14 20:00:00.0  21.5  0.0  1025.4  36.0  1.0   72.0\n",
       "4  59559  恒春  2018-12-14 20:00:00.0  22.8  0.0  1022.8   2.0  6.0   74.0"
      ]
     },
     "execution_count": 3,
     "metadata": {},
     "output_type": "execute_result"
    }
   ],
   "source": [
    "df.head()"
   ]
  },
  {
   "cell_type": "code",
   "execution_count": 8,
   "id": "43110dcc",
   "metadata": {},
   "outputs": [],
   "source": [
    "cs=df[df['站名']=='长沙'].fillna(0)"
   ]
  },
  {
   "cell_type": "code",
   "execution_count": 18,
   "id": "208c5fd9",
   "metadata": {},
   "outputs": [],
   "source": [
    "csc=cs.sort_values(by='时间')"
   ]
  },
  {
   "cell_type": "code",
   "execution_count": 24,
   "id": "401c2d99",
   "metadata": {},
   "outputs": [
    {
     "data": {
      "text/html": [
       "<div>\n",
       "<style scoped>\n",
       "    .dataframe tbody tr th:only-of-type {\n",
       "        vertical-align: middle;\n",
       "    }\n",
       "\n",
       "    .dataframe tbody tr th {\n",
       "        vertical-align: top;\n",
       "    }\n",
       "\n",
       "    .dataframe thead th {\n",
       "        text-align: right;\n",
       "    }\n",
       "</style>\n",
       "<table border=\"1\" class=\"dataframe\">\n",
       "  <thead>\n",
       "    <tr style=\"text-align: right;\">\n",
       "      <th></th>\n",
       "      <th>站号</th>\n",
       "      <th>站名</th>\n",
       "      <th>时间</th>\n",
       "      <th>气温</th>\n",
       "      <th>降水</th>\n",
       "      <th>气压</th>\n",
       "      <th>风向</th>\n",
       "      <th>风速</th>\n",
       "      <th>湿度</th>\n",
       "    </tr>\n",
       "  </thead>\n",
       "  <tbody>\n",
       "    <tr>\n",
       "      <th>281313</th>\n",
       "      <td>57687</td>\n",
       "      <td>长沙</td>\n",
       "      <td>2018-11-18 02:00:00.0</td>\n",
       "      <td>8.0</td>\n",
       "      <td>0.6</td>\n",
       "      <td>1021.9</td>\n",
       "      <td>34.0</td>\n",
       "      <td>5.0</td>\n",
       "      <td>97.0</td>\n",
       "    </tr>\n",
       "    <tr>\n",
       "      <th>281260</th>\n",
       "      <td>57679</td>\n",
       "      <td>长沙</td>\n",
       "      <td>2018-11-18 02:00:00.0</td>\n",
       "      <td>9.0</td>\n",
       "      <td>1.0</td>\n",
       "      <td>1021.5</td>\n",
       "      <td>32.0</td>\n",
       "      <td>4.0</td>\n",
       "      <td>100.0</td>\n",
       "    </tr>\n",
       "    <tr>\n",
       "      <th>280001</th>\n",
       "      <td>57679</td>\n",
       "      <td>长沙</td>\n",
       "      <td>2018-11-18 05:00:00.0</td>\n",
       "      <td>8.3</td>\n",
       "      <td>0.0</td>\n",
       "      <td>1021.8</td>\n",
       "      <td>32.0</td>\n",
       "      <td>5.0</td>\n",
       "      <td>100.0</td>\n",
       "    </tr>\n",
       "  </tbody>\n",
       "</table>\n",
       "</div>"
      ],
      "text/plain": [
       "           站号  站名                     时间   气温   降水      气压    风向   风速     湿度\n",
       "281313  57687  长沙  2018-11-18 02:00:00.0  8.0  0.6  1021.9  34.0  5.0   97.0\n",
       "281260  57679  长沙  2018-11-18 02:00:00.0  9.0  1.0  1021.5  32.0  4.0  100.0\n",
       "280001  57679  长沙  2018-11-18 05:00:00.0  8.3  0.0  1021.8  32.0  5.0  100.0"
      ]
     },
     "execution_count": 24,
     "metadata": {},
     "output_type": "execute_result"
    }
   ],
   "source": [
    "csc.head(3)"
   ]
  },
  {
   "cell_type": "code",
   "execution_count": 23,
   "id": "646846fb",
   "metadata": {},
   "outputs": [
    {
     "data": {
      "text/html": [
       "<div>\n",
       "<style scoped>\n",
       "    .dataframe tbody tr th:only-of-type {\n",
       "        vertical-align: middle;\n",
       "    }\n",
       "\n",
       "    .dataframe tbody tr th {\n",
       "        vertical-align: top;\n",
       "    }\n",
       "\n",
       "    .dataframe thead th {\n",
       "        text-align: right;\n",
       "    }\n",
       "</style>\n",
       "<table border=\"1\" class=\"dataframe\">\n",
       "  <thead>\n",
       "    <tr style=\"text-align: right;\">\n",
       "      <th></th>\n",
       "      <th>站号</th>\n",
       "      <th>站名</th>\n",
       "      <th>时间</th>\n",
       "      <th>气温</th>\n",
       "      <th>降水</th>\n",
       "      <th>气压</th>\n",
       "      <th>风向</th>\n",
       "      <th>风速</th>\n",
       "      <th>湿度</th>\n",
       "    </tr>\n",
       "  </thead>\n",
       "  <tbody>\n",
       "    <tr>\n",
       "      <th>2018102</th>\n",
       "      <td>57687</td>\n",
       "      <td>长沙</td>\n",
       "      <td>2020-07-16 02:00:00.0</td>\n",
       "      <td>24.5</td>\n",
       "      <td>0.0</td>\n",
       "      <td>1003.6</td>\n",
       "      <td>32.0</td>\n",
       "      <td>3.0</td>\n",
       "      <td>95.0</td>\n",
       "    </tr>\n",
       "    <tr>\n",
       "      <th>2017543</th>\n",
       "      <td>57687</td>\n",
       "      <td>长沙</td>\n",
       "      <td>2020-07-16 05:00:00.0</td>\n",
       "      <td>24.5</td>\n",
       "      <td>0.0</td>\n",
       "      <td>1003.9</td>\n",
       "      <td>29.0</td>\n",
       "      <td>1.0</td>\n",
       "      <td>95.0</td>\n",
       "    </tr>\n",
       "    <tr>\n",
       "      <th>2017482</th>\n",
       "      <td>57687</td>\n",
       "      <td>长沙</td>\n",
       "      <td>2020-07-16 08:00:00.0</td>\n",
       "      <td>25.0</td>\n",
       "      <td>0.0</td>\n",
       "      <td>1004.2</td>\n",
       "      <td>26.0</td>\n",
       "      <td>0.0</td>\n",
       "      <td>94.0</td>\n",
       "    </tr>\n",
       "  </tbody>\n",
       "</table>\n",
       "</div>"
      ],
      "text/plain": [
       "            站号  站名                     时间    气温   降水      气压    风向   风速    湿度\n",
       "2018102  57687  长沙  2020-07-16 02:00:00.0  24.5  0.0  1003.6  32.0  3.0  95.0\n",
       "2017543  57687  长沙  2020-07-16 05:00:00.0  24.5  0.0  1003.9  29.0  1.0  95.0\n",
       "2017482  57687  长沙  2020-07-16 08:00:00.0  25.0  0.0  1004.2  26.0  0.0  94.0"
      ]
     },
     "execution_count": 23,
     "metadata": {},
     "output_type": "execute_result"
    }
   ],
   "source": [
    "csc.tail(3)"
   ]
  },
  {
   "cell_type": "code",
   "execution_count": 19,
   "id": "e515beab",
   "metadata": {},
   "outputs": [],
   "source": [
    "csn=csc[['气温','降水','气压','风向','风速','湿度']]"
   ]
  },
  {
   "cell_type": "code",
   "execution_count": 27,
   "id": "2c2f3efd",
   "metadata": {},
   "outputs": [
    {
     "data": {
      "text/html": [
       "<div>\n",
       "<style scoped>\n",
       "    .dataframe tbody tr th:only-of-type {\n",
       "        vertical-align: middle;\n",
       "    }\n",
       "\n",
       "    .dataframe tbody tr th {\n",
       "        vertical-align: top;\n",
       "    }\n",
       "\n",
       "    .dataframe thead th {\n",
       "        text-align: right;\n",
       "    }\n",
       "</style>\n",
       "<table border=\"1\" class=\"dataframe\">\n",
       "  <thead>\n",
       "    <tr style=\"text-align: right;\">\n",
       "      <th></th>\n",
       "      <th>气温</th>\n",
       "      <th>降水</th>\n",
       "      <th>气压</th>\n",
       "      <th>风向</th>\n",
       "      <th>风速</th>\n",
       "      <th>湿度</th>\n",
       "    </tr>\n",
       "  </thead>\n",
       "  <tbody>\n",
       "    <tr>\n",
       "      <th>281313</th>\n",
       "      <td>8.0</td>\n",
       "      <td>0.6</td>\n",
       "      <td>1021.9</td>\n",
       "      <td>34.0</td>\n",
       "      <td>5.0</td>\n",
       "      <td>97.0</td>\n",
       "    </tr>\n",
       "    <tr>\n",
       "      <th>281260</th>\n",
       "      <td>9.0</td>\n",
       "      <td>1.0</td>\n",
       "      <td>1021.5</td>\n",
       "      <td>32.0</td>\n",
       "      <td>4.0</td>\n",
       "      <td>100.0</td>\n",
       "    </tr>\n",
       "    <tr>\n",
       "      <th>280001</th>\n",
       "      <td>8.3</td>\n",
       "      <td>0.0</td>\n",
       "      <td>1021.8</td>\n",
       "      <td>32.0</td>\n",
       "      <td>5.0</td>\n",
       "      <td>100.0</td>\n",
       "    </tr>\n",
       "    <tr>\n",
       "      <th>279991</th>\n",
       "      <td>7.5</td>\n",
       "      <td>0.0</td>\n",
       "      <td>1022.3</td>\n",
       "      <td>34.0</td>\n",
       "      <td>6.0</td>\n",
       "      <td>98.0</td>\n",
       "    </tr>\n",
       "    <tr>\n",
       "      <th>279161</th>\n",
       "      <td>8.1</td>\n",
       "      <td>5.0</td>\n",
       "      <td>1024.8</td>\n",
       "      <td>32.0</td>\n",
       "      <td>3.0</td>\n",
       "      <td>100.0</td>\n",
       "    </tr>\n",
       "  </tbody>\n",
       "</table>\n",
       "</div>"
      ],
      "text/plain": [
       "         气温   降水      气压    风向   风速     湿度\n",
       "281313  8.0  0.6  1021.9  34.0  5.0   97.0\n",
       "281260  9.0  1.0  1021.5  32.0  4.0  100.0\n",
       "280001  8.3  0.0  1021.8  32.0  5.0  100.0\n",
       "279991  7.5  0.0  1022.3  34.0  6.0   98.0\n",
       "279161  8.1  5.0  1024.8  32.0  3.0  100.0"
      ]
     },
     "execution_count": 27,
     "metadata": {},
     "output_type": "execute_result"
    }
   ],
   "source": [
    "csn.head()"
   ]
  },
  {
   "cell_type": "code",
   "execution_count": 28,
   "id": "748f5cb5",
   "metadata": {},
   "outputs": [],
   "source": [
    "csn=csn.reset_index(drop=True)"
   ]
  },
  {
   "cell_type": "code",
   "execution_count": 30,
   "id": "82c36e82",
   "metadata": {},
   "outputs": [
    {
     "data": {
      "image/png": "[encoded data removed]",
      "text/plain": [
       "<Figure size 432x288 with 1 Axes>"
      ]
     },
     "metadata": {
      "needs_background": "light"
     },
     "output_type": "display_data"
    }
   ],
   "source": [
    "plt.figure()\n",
    "plt.plot(csn['气温'])\n",
    "plt.xlabel('time sequence every 3 hours')\n",
    "plt.ylabel('temperature')\n",
    "plt.title('temperature curve for ChangSha')\n",
    "plt.savefig('temp.png')"
   ]
  },
  {
   "cell_type": "code",
   "execution_count": 34,
   "id": "160100f4",
   "metadata": {},
   "outputs": [],
   "source": [
    "trSplit=int(0.7*len(csn))"
   ]
  },
  {
   "cell_type": "code",
   "execution_count": 36,
   "id": "b8d9bb01",
   "metadata": {},
   "outputs": [],
   "source": [
    "csMean=csn[:trSplit].mean(axis=0)\n",
    "csStd=csn[:trSplit].std(axis=0)\n",
    "Nomcs=(csn-csMean)/csStd"
   ]
  },
  {
   "cell_type": "code",
   "execution_count": 37,
   "id": "2b78c9fe",
   "metadata": {},
   "outputs": [
    {
     "data": {
      "text/html": [
       "<div>\n",
       "<style scoped>\n",
       "    .dataframe tbody tr th:only-of-type {\n",
       "        vertical-align: middle;\n",
       "    }\n",
       "\n",
       "    .dataframe tbody tr th {\n",
       "        vertical-align: top;\n",
       "    }\n",
       "\n",
       "    .dataframe thead th {\n",
       "        text-align: right;\n",
       "    }\n",
       "</style>\n",
       "<table border=\"1\" class=\"dataframe\">\n",
       "  <thead>\n",
       "    <tr style=\"text-align: right;\">\n",
       "      <th></th>\n",
       "      <th>气温</th>\n",
       "      <th>降水</th>\n",
       "      <th>气压</th>\n",
       "      <th>风向</th>\n",
       "      <th>风速</th>\n",
       "      <th>湿度</th>\n",
       "    </tr>\n",
       "  </thead>\n",
       "  <tbody>\n",
       "    <tr>\n",
       "      <th>0</th>\n",
       "      <td>-0.701120</td>\n",
       "      <td>0.031142</td>\n",
       "      <td>0.109462</td>\n",
       "      <td>0.918060</td>\n",
       "      <td>1.569248</td>\n",
       "      <td>0.712954</td>\n",
       "    </tr>\n",
       "    <tr>\n",
       "      <th>1</th>\n",
       "      <td>-0.603616</td>\n",
       "      <td>0.192011</td>\n",
       "      <td>0.096501</td>\n",
       "      <td>0.761125</td>\n",
       "      <td>0.961475</td>\n",
       "      <td>0.876378</td>\n",
       "    </tr>\n",
       "    <tr>\n",
       "      <th>2</th>\n",
       "      <td>-0.671869</td>\n",
       "      <td>-0.210161</td>\n",
       "      <td>0.106222</td>\n",
       "      <td>0.761125</td>\n",
       "      <td>1.569248</td>\n",
       "      <td>0.876378</td>\n",
       "    </tr>\n",
       "    <tr>\n",
       "      <th>3</th>\n",
       "      <td>-0.749872</td>\n",
       "      <td>-0.210161</td>\n",
       "      <td>0.122423</td>\n",
       "      <td>0.918060</td>\n",
       "      <td>2.177022</td>\n",
       "      <td>0.767429</td>\n",
       "    </tr>\n",
       "    <tr>\n",
       "      <th>4</th>\n",
       "      <td>-0.691370</td>\n",
       "      <td>1.800701</td>\n",
       "      <td>0.203429</td>\n",
       "      <td>0.761125</td>\n",
       "      <td>0.353701</td>\n",
       "      <td>0.876378</td>\n",
       "    </tr>\n",
       "  </tbody>\n",
       "</table>\n",
       "</div>"
      ],
      "text/plain": [
       "         气温        降水        气压        风向        风速        湿度\n",
       "0 -0.701120  0.031142  0.109462  0.918060  1.569248  0.712954\n",
       "1 -0.603616  0.192011  0.096501  0.761125  0.961475  0.876378\n",
       "2 -0.671869 -0.210161  0.106222  0.761125  1.569248  0.876378\n",
       "3 -0.749872 -0.210161  0.122423  0.918060  2.177022  0.767429\n",
       "4 -0.691370  1.800701  0.203429  0.761125  0.353701  0.876378"
      ]
     },
     "execution_count": 37,
     "metadata": {},
     "output_type": "execute_result"
    }
   ],
   "source": [
    "Nomcs.head()"
   ]
  },
  {
   "cell_type": "code",
   "execution_count": 95,
   "id": "00a8dc39",
   "metadata": {},
   "outputs": [],
   "source": [
    "Xtrain=Nomcs[:trSplit]\n",
    "Xtest=Nomcs[trSplit:]"
   ]
  },
  {
   "cell_type": "code",
   "execution_count": 96,
   "id": "0f506acc",
   "metadata": {},
   "outputs": [
    {
     "data": {
      "text/plain": [
       "2916"
      ]
     },
     "execution_count": 96,
     "metadata": {},
     "output_type": "execute_result"
    }
   ],
   "source": [
    "len(Xtrain)"
   ]
  },
  {
   "cell_type": "code",
   "execution_count": 97,
   "id": "dfa6fcd5",
   "metadata": {},
   "outputs": [
    {
     "data": {
      "text/plain": [
       "1250"
      ]
     },
     "execution_count": 97,
     "metadata": {},
     "output_type": "execute_result"
    }
   ],
   "source": [
    "len(Xtest)"
   ]
  },
  {
   "cell_type": "markdown",
   "id": "8ec44e52",
   "metadata": {},
   "source": [
    "# 1.Temperature prediction"
   ]
  },
  {
   "cell_type": "code",
   "execution_count": 98,
   "id": "c4957851",
   "metadata": {},
   "outputs": [],
   "source": [
    "ytrain=Nomcs[:trSplit]['气温']\n",
    "ytest=Nomcs[trSplit:]['气温']"
   ]
  },
  {
   "cell_type": "code",
   "execution_count": 99,
   "id": "0da4f3a7",
   "metadata": {},
   "outputs": [],
   "source": [
    "learning_rate = 0.001\n",
    "batch_size = 32\n",
    "epochs = 10"
   ]
  },
  {
   "cell_type": "code",
   "execution_count": 100,
   "id": "e8bd182c",
   "metadata": {},
   "outputs": [],
   "source": [
    "train_dataset= keras.preprocessing.timeseries_dataset_from_array(\n",
    "    Xtrain,\n",
    "    ytrain,\n",
    "    sequence_length=1,\n",
    "    batch_size=batch_size,\n",
    ")"
   ]
  },
  {
   "cell_type": "code",
   "execution_count": 101,
   "id": "4bfe5dd8",
   "metadata": {},
   "outputs": [],
   "source": [
    "test_dataset=keras.preprocessing.timeseries_dataset_from_array(\n",
    "    Xtest,\n",
    "    ytest,\n",
    "    sequence_length=1,\n",
    "    batch_size=batch_size,\n",
    ")"
   ]
  },
  {
   "cell_type": "code",
   "execution_count": 102,
   "id": "ed8a0624",
   "metadata": {},
   "outputs": [],
   "source": [
    "for batch in train_dataset.take(1):\n",
    "    inputs,targets=batch"
   ]
  },
  {
   "cell_type": "code",
   "execution_count": 103,
   "id": "404cbf54",
   "metadata": {},
   "outputs": [
    {
     "name": "stdout",
     "output_type": "stream",
     "text": [
      "Model: \"model_6\"\n",
      "_________________________________________________________________\n",
      "Layer (type)                 Output Shape              Param #   \n",
      "=================================================================\n",
      "input_7 (InputLayer)         [(None, 1, 6)]            0         \n",
      "_________________________________________________________________\n",
      "lstm_6 (LSTM)                (None, 32)                4992      \n",
      "_________________________________________________________________\n",
      "dense_6 (Dense)              (None, 1)                 33        \n",
      "=================================================================\n",
      "Total params: 5,025\n",
      "Trainable params: 5,025\n",
      "Non-trainable params: 0\n",
      "_________________________________________________________________\n"
     ]
    }
   ],
   "source": [
    "inputs = keras.layers.Input(shape=(inputs.shape[1], inputs.shape[2]))\n",
    "lstm_out = keras.layers.LSTM(32)(inputs)\n",
    "outputs = keras.layers.Dense(1)(lstm_out)\n",
    "model = keras.Model(inputs=inputs, outputs=outputs)\n",
    "model.compile(optimizer=keras.optimizers.Adam(learning_rate=learning_rate), loss=\"mse\")\n",
    "model.summary()"
   ]
  },
  {
   "cell_type": "code",
   "execution_count": 104,
   "id": "9a5bb6a3",
   "metadata": {},
   "outputs": [
    {
     "name": "stdout",
     "output_type": "stream",
     "text": [
      "Epoch 1/10\n",
      "92/92 [==============================] - 3s 15ms/step - loss: 0.7147 - val_loss: 0.4202\n",
      "\n",
      "Epoch 00001: val_loss improved from inf to 0.42018, saving model to model_checkpoint.h5\n",
      "Epoch 2/10\n",
      "92/92 [==============================] - 1s 6ms/step - loss: 0.2877 - val_loss: 0.1638\n",
      "\n",
      "Epoch 00002: val_loss improved from 0.42018 to 0.16383, saving model to model_checkpoint.h5\n",
      "Epoch 3/10\n",
      "92/92 [==============================] - 1s 8ms/step - loss: 0.1112 - val_loss: 0.0743\n",
      "\n",
      "Epoch 00003: val_loss improved from 0.16383 to 0.07432, saving model to model_checkpoint.h5\n",
      "Epoch 4/10\n",
      "92/92 [==============================] - 1s 8ms/step - loss: 0.0509 - val_loss: 0.0307\n",
      "\n",
      "Epoch 00004: val_loss improved from 0.07432 to 0.03065, saving model to model_checkpoint.h5\n",
      "Epoch 5/10\n",
      "92/92 [==============================] - 1s 7ms/step - loss: 0.0227 - val_loss: 0.0122\n",
      "\n",
      "Epoch 00005: val_loss improved from 0.03065 to 0.01224, saving model to model_checkpoint.h5\n",
      "Epoch 6/10\n",
      "92/92 [==============================] - 1s 7ms/step - loss: 0.0106 - val_loss: 0.0068\n",
      "\n",
      "Epoch 00006: val_loss improved from 0.01224 to 0.00680, saving model to model_checkpoint.h5\n",
      "Epoch 7/10\n",
      "92/92 [==============================] - 1s 8ms/step - loss: 0.0058 - val_loss: 0.0050\n",
      "\n",
      "Epoch 00007: val_loss improved from 0.00680 to 0.00496, saving model to model_checkpoint.h5\n",
      "Epoch 8/10\n",
      "92/92 [==============================] - 1s 7ms/step - loss: 0.0037 - val_loss: 0.0039\n",
      "\n",
      "Epoch 00008: val_loss improved from 0.00496 to 0.00393, saving model to model_checkpoint.h5\n",
      "Epoch 9/10\n",
      "92/92 [==============================] - 1s 7ms/step - loss: 0.0028 - val_loss: 0.0032\n",
      "\n",
      "Epoch 00009: val_loss improved from 0.00393 to 0.00322, saving model to model_checkpoint.h5\n",
      "Epoch 10/10\n",
      "92/92 [==============================] - 1s 7ms/step - loss: 0.0024 - val_loss: 0.0027\n",
      "\n",
      "Epoch 00010: val_loss improved from 0.00322 to 0.00271, saving model to model_checkpoint.h5\n"
     ]
    }
   ],
   "source": [
    "path_checkpoint = \"model_checkpoint.h5\"\n",
    "es_callback = keras.callbacks.EarlyStopping(monitor=\"val_loss\", min_delta=0, patience=5)\n",
    "modelckpt_callback = keras.callbacks.ModelCheckpoint(\n",
    "    monitor=\"val_loss\",\n",
    "    filepath=path_checkpoint,\n",
    "    verbose=1,\n",
    "    save_weights_only=True,\n",
    "    save_best_only=True,\n",
    ")\n",
    "history = model.fit(\n",
    "    train_dataset,\n",
    "    epochs=epochs,\n",
    "    validation_data=test_dataset,\n",
    "    callbacks=[es_callback, modelckpt_callback],\n",
    ")"
   ]
  },
  {
   "cell_type": "code",
   "execution_count": 105,
   "id": "8d639681",
   "metadata": {},
   "outputs": [
    {
     "data": {
      "image/png": "[encoded data removed]",
      "text/plain": [
       "<Figure size 432x288 with 1 Axes>"
      ]
     },
     "metadata": {
      "needs_background": "light"
     },
     "output_type": "display_data"
    }
   ],
   "source": [
    "trloss=history.history[\"loss\"]\n",
    "teloss=history.history[\"val_loss\"]\n",
    "real_epochs=range(len(trloss))\n",
    "plt.figure()\n",
    "plt.plot(real_epochs, trloss, \"b\", label=\"Training loss\")\n",
    "plt.plot(real_epochs, teloss, \"r\", label=\"Test loss\")\n",
    "plt.title('Training and Test Loss (MSE) for Temperature')\n",
    "plt.xlabel(\"Epochs\")\n",
    "plt.ylabel(\"Loss in MSE\")\n",
    "plt.legend()\n",
    "plt.savefig('temptraintest1.png')"
   ]
  },
  {
   "cell_type": "code",
   "execution_count": 112,
   "id": "d7309b77",
   "metadata": {},
   "outputs": [],
   "source": [
    "overall_dataset= keras.preprocessing.timeseries_dataset_from_array(\n",
    "    Nomcs,\n",
    "    Nomcs['气温'],\n",
    "    sequence_length=1,\n",
    "    batch_size=batch_size,\n",
    ")"
   ]
  },
  {
   "cell_type": "code",
   "execution_count": 113,
   "id": "51f7b261",
   "metadata": {},
   "outputs": [
    {
     "data": {
      "image/png": "[encoded data removed]",
      "text/plain": [
       "<Figure size 432x288 with 1 Axes>"
      ]
     },
     "metadata": {
      "needs_background": "light"
     },
     "output_type": "display_data"
    }
   ],
   "source": [
    "plt.figure()\n",
    "plt.plot(model.predict(overall_dataset))\n",
    "plt.xlabel('timestep')\n",
    "plt.ylabel('temperature(normalized)')\n",
    "plt.title('Prediction of ChangeSha temperature from 2018 to 2020')\n",
    "plt.savefig('temppred.png')"
   ]
  },
  {
   "cell_type": "markdown",
   "id": "5d44a682",
   "metadata": {},
   "source": [
    "# 2. Pressure"
   ]
  },
  {
   "cell_type": "code",
   "execution_count": 114,
   "id": "176deba0",
   "metadata": {},
   "outputs": [],
   "source": [
    "ytrain=Nomcs[:trSplit]['气压']\n",
    "ytest=Nomcs[trSplit:]['气压']"
   ]
  },
  {
   "cell_type": "code",
   "execution_count": 115,
   "id": "cc72ac5e",
   "metadata": {},
   "outputs": [],
   "source": [
    "train_dataset= keras.preprocessing.timeseries_dataset_from_array(\n",
    "    Xtrain,\n",
    "    ytrain,\n",
    "    sequence_length=1,\n",
    "    batch_size=batch_size,\n",
    ")\n",
    "test_dataset=keras.preprocessing.timeseries_dataset_from_array(\n",
    "    Xtest,\n",
    "    ytest,\n",
    "    sequence_length=1,\n",
    "    batch_size=batch_size,\n",
    ")\n",
    "overall_dataset= keras.preprocessing.timeseries_dataset_from_array(\n",
    "    Nomcs,\n",
    "    Nomcs['气压'],\n",
    "    sequence_length=1,\n",
    "    batch_size=batch_size,\n",
    ")\n",
    "for batch in train_dataset.take(1):\n",
    "    inputs,targets=batch"
   ]
  },
  {
   "cell_type": "code",
   "execution_count": 116,
   "id": "214217be",
   "metadata": {},
   "outputs": [
    {
     "name": "stdout",
     "output_type": "stream",
     "text": [
      "Model: \"model_7\"\n",
      "_________________________________________________________________\n",
      "Layer (type)                 Output Shape              Param #   \n",
      "=================================================================\n",
      "input_8 (InputLayer)         [(None, 1, 6)]            0         \n",
      "_________________________________________________________________\n",
      "lstm_7 (LSTM)                (None, 32)                4992      \n",
      "_________________________________________________________________\n",
      "dense_7 (Dense)              (None, 1)                 33        \n",
      "=================================================================\n",
      "Total params: 5,025\n",
      "Trainable params: 5,025\n",
      "Non-trainable params: 0\n",
      "_________________________________________________________________\n"
     ]
    }
   ],
   "source": [
    "inputs = keras.layers.Input(shape=(inputs.shape[1], inputs.shape[2]))\n",
    "lstm_out = keras.layers.LSTM(32)(inputs)\n",
    "outputs = keras.layers.Dense(1)(lstm_out)\n",
    "model = keras.Model(inputs=inputs, outputs=outputs)\n",
    "model.compile(optimizer=keras.optimizers.Adam(learning_rate=learning_rate), loss=\"mse\")\n",
    "model.summary()\n"
   ]
  },
  {
   "cell_type": "code",
   "execution_count": 117,
   "id": "98b5ae7d",
   "metadata": {},
   "outputs": [
    {
     "name": "stdout",
     "output_type": "stream",
     "text": [
      "Epoch 1/10\n",
      "92/92 [==============================] - 4s 16ms/step - loss: 0.8656 - val_loss: 0.0178\n",
      "\n",
      "Epoch 00001: val_loss improved from inf to 0.01783, saving model to model_checkpoint.h5\n",
      "Epoch 2/10\n",
      "92/92 [==============================] - 1s 8ms/step - loss: 0.8112 - val_loss: 0.0110\n",
      "\n",
      "Epoch 00002: val_loss improved from 0.01783 to 0.01101, saving model to model_checkpoint.h5\n",
      "Epoch 3/10\n",
      "92/92 [==============================] - 1s 8ms/step - loss: 0.7725 - val_loss: 0.0081\n",
      "\n",
      "Epoch 00003: val_loss improved from 0.01101 to 0.00812, saving model to model_checkpoint.h5\n",
      "Epoch 4/10\n",
      "92/92 [==============================] - 1s 8ms/step - loss: 0.7368 - val_loss: 0.0065\n",
      "\n",
      "Epoch 00004: val_loss improved from 0.00812 to 0.00654, saving model to model_checkpoint.h5\n",
      "Epoch 5/10\n",
      "92/92 [==============================] - 1s 7ms/step - loss: 0.7040 - val_loss: 0.0053\n",
      "\n",
      "Epoch 00005: val_loss improved from 0.00654 to 0.00533, saving model to model_checkpoint.h5\n",
      "Epoch 6/10\n",
      "92/92 [==============================] - 1s 7ms/step - loss: 0.6734 - val_loss: 0.0042\n",
      "\n",
      "Epoch 00006: val_loss improved from 0.00533 to 0.00421, saving model to model_checkpoint.h5\n",
      "Epoch 7/10\n",
      "92/92 [==============================] - 1s 6ms/step - loss: 0.6465 - val_loss: 0.0032\n",
      "\n",
      "Epoch 00007: val_loss improved from 0.00421 to 0.00319, saving model to model_checkpoint.h5\n",
      "Epoch 8/10\n",
      "92/92 [==============================] - 1s 6ms/step - loss: 0.6239 - val_loss: 0.0024\n",
      "\n",
      "Epoch 00008: val_loss improved from 0.00319 to 0.00236, saving model to model_checkpoint.h5\n",
      "Epoch 9/10\n",
      "92/92 [==============================] - 1s 7ms/step - loss: 0.6050 - val_loss: 0.0018\n",
      "\n",
      "Epoch 00009: val_loss improved from 0.00236 to 0.00178, saving model to model_checkpoint.h5\n",
      "Epoch 10/10\n",
      "92/92 [==============================] - 1s 8ms/step - loss: 0.5893 - val_loss: 0.0014\n",
      "\n",
      "Epoch 00010: val_loss improved from 0.00178 to 0.00143, saving model to model_checkpoint.h5\n"
     ]
    }
   ],
   "source": [
    "path_checkpoint = \"model_checkpoint.h5\"\n",
    "es_callback = keras.callbacks.EarlyStopping(monitor=\"val_loss\", min_delta=0, patience=5)\n",
    "modelckpt_callback = keras.callbacks.ModelCheckpoint(\n",
    "    monitor=\"val_loss\",\n",
    "    filepath=path_checkpoint,\n",
    "    verbose=1,\n",
    "    save_weights_only=True,\n",
    "    save_best_only=True,\n",
    ")\n",
    "history = model.fit(\n",
    "    train_dataset,\n",
    "    epochs=epochs,\n",
    "    validation_data=test_dataset,\n",
    "    callbacks=[es_callback, modelckpt_callback],\n",
    ")"
   ]
  },
  {
   "cell_type": "code",
   "execution_count": 118,
   "id": "b242abd5",
   "metadata": {},
   "outputs": [
    {
     "data": {
      "image/png": "[encoded data removed]",
      "text/plain": [
       "<Figure size 432x288 with 1 Axes>"
      ]
     },
     "metadata": {
      "needs_background": "light"
     },
     "output_type": "display_data"
    }
   ],
   "source": [
    "trloss=history.history[\"loss\"]\n",
    "teloss=history.history[\"val_loss\"]\n",
    "real_epochs=range(len(trloss))\n",
    "plt.figure()\n",
    "plt.plot(real_epochs, trloss, \"b\", label=\"Training loss\")\n",
    "plt.plot(real_epochs, teloss, \"r\", label=\"Test loss\")\n",
    "plt.title('Training and Test Loss (MSE) for Pressure')\n",
    "plt.xlabel(\"Epochs\")\n",
    "plt.ylabel(\"Loss in MSE\")\n",
    "plt.legend()\n",
    "plt.savefig('pretraintest1.png')"
   ]
  },
  {
   "cell_type": "code",
   "execution_count": 119,
   "id": "ef6abc64",
   "metadata": {},
   "outputs": [
    {
     "data": {
      "image/png": "[encoded data removed]",
      "text/plain": [
       "<Figure size 432x288 with 1 Axes>"
      ]
     },
     "metadata": {
      "needs_background": "light"
     },
     "output_type": "display_data"
    }
   ],
   "source": [
    "plt.figure()\n",
    "plt.plot(model.predict(overall_dataset))\n",
    "plt.xlabel('timestep')\n",
    "plt.ylabel('pressure(normalized)')\n",
    "plt.title('Prediction of ChangeSha pressure from 2018 to 2020')\n",
    "plt.savefig('prepred.png')"
   ]
  },
  {
   "cell_type": "code",
   "execution_count": 120,
   "id": "81e68426",
   "metadata": {},
   "outputs": [
    {
     "data": {
      "image/png": "[encoded data removed]",
      "text/plain": [
       "<Figure size 432x288 with 1 Axes>"
      ]
     },
     "metadata": {
      "needs_background": "light"
     },
     "output_type": "display_data"
    }
   ],
   "source": [
    "plt.figure()\n",
    "plt.plot(Nomcs['气压'])\n",
    "plt.xlabel('timestep')\n",
    "plt.ylabel('pressure(normalized)')\n",
    "plt.title('True ChangeSha pressure from 2018 to 2020')\n",
    "plt.savefig('pretrue.png')"
   ]
  },
  {
   "cell_type": "markdown",
   "id": "abb163d3",
   "metadata": {},
   "source": [
    "# 3. Humidity"
   ]
  },
  {
   "cell_type": "code",
   "execution_count": 121,
   "id": "009a0748",
   "metadata": {},
   "outputs": [],
   "source": [
    "ytrain=Nomcs[:trSplit]['湿度']\n",
    "ytest=Nomcs[trSplit:]['湿度']"
   ]
  },
  {
   "cell_type": "code",
   "execution_count": 122,
   "id": "4b8b550b",
   "metadata": {},
   "outputs": [],
   "source": [
    "train_dataset= keras.preprocessing.timeseries_dataset_from_array(\n",
    "    Xtrain,\n",
    "    ytrain,\n",
    "    sequence_length=1,\n",
    "    batch_size=batch_size,\n",
    ")\n",
    "test_dataset=keras.preprocessing.timeseries_dataset_from_array(\n",
    "    Xtest,\n",
    "    ytest,\n",
    "    sequence_length=1,\n",
    "    batch_size=batch_size,\n",
    ")\n",
    "overall_dataset= keras.preprocessing.timeseries_dataset_from_array(\n",
    "    Nomcs,\n",
    "    Nomcs['湿度'],\n",
    "    sequence_length=1,\n",
    "    batch_size=batch_size,\n",
    ")\n",
    "for batch in train_dataset.take(1):\n",
    "    inputs,targets=batch"
   ]
  },
  {
   "cell_type": "code",
   "execution_count": 123,
   "id": "c5737365",
   "metadata": {},
   "outputs": [
    {
     "name": "stdout",
     "output_type": "stream",
     "text": [
      "Model: \"model_8\"\n",
      "_________________________________________________________________\n",
      "Layer (type)                 Output Shape              Param #   \n",
      "=================================================================\n",
      "input_9 (InputLayer)         [(None, 1, 6)]            0         \n",
      "_________________________________________________________________\n",
      "lstm_8 (LSTM)                (None, 32)                4992      \n",
      "_________________________________________________________________\n",
      "dense_8 (Dense)              (None, 1)                 33        \n",
      "=================================================================\n",
      "Total params: 5,025\n",
      "Trainable params: 5,025\n",
      "Non-trainable params: 0\n",
      "_________________________________________________________________\n"
     ]
    }
   ],
   "source": [
    "inputs = keras.layers.Input(shape=(inputs.shape[1], inputs.shape[2]))\n",
    "lstm_out = keras.layers.LSTM(32)(inputs)\n",
    "outputs = keras.layers.Dense(1)(lstm_out)\n",
    "model = keras.Model(inputs=inputs, outputs=outputs)\n",
    "model.compile(optimizer=keras.optimizers.Adam(learning_rate=learning_rate), loss=\"mse\")\n",
    "model.summary()\n"
   ]
  },
  {
   "cell_type": "code",
   "execution_count": 124,
   "id": "33844ab4",
   "metadata": {},
   "outputs": [
    {
     "name": "stdout",
     "output_type": "stream",
     "text": [
      "Epoch 1/10\n",
      "92/92 [==============================] - 3s 16ms/step - loss: 0.5661 - val_loss: 0.5975\n",
      "\n",
      "Epoch 00001: val_loss improved from inf to 0.59749, saving model to model_checkpoint.h5\n",
      "Epoch 2/10\n",
      "92/92 [==============================] - 1s 8ms/step - loss: 0.1934 - val_loss: 0.1725\n",
      "\n",
      "Epoch 00002: val_loss improved from 0.59749 to 0.17249, saving model to model_checkpoint.h5\n",
      "Epoch 3/10\n",
      "92/92 [==============================] - 1s 8ms/step - loss: 0.0520 - val_loss: 0.0453\n",
      "\n",
      "Epoch 00003: val_loss improved from 0.17249 to 0.04529, saving model to model_checkpoint.h5\n",
      "Epoch 4/10\n",
      "92/92 [==============================] - 1s 7ms/step - loss: 0.0141 - val_loss: 0.0126\n",
      "\n",
      "Epoch 00004: val_loss improved from 0.04529 to 0.01262, saving model to model_checkpoint.h5\n",
      "Epoch 5/10\n",
      "92/92 [==============================] - 1s 7ms/step - loss: 0.0046 - val_loss: 0.0058\n",
      "\n",
      "Epoch 00005: val_loss improved from 0.01262 to 0.00578, saving model to model_checkpoint.h5\n",
      "Epoch 6/10\n",
      "92/92 [==============================] - 1s 7ms/step - loss: 0.0027 - val_loss: 0.0043\n",
      "\n",
      "Epoch 00006: val_loss improved from 0.00578 to 0.00433, saving model to model_checkpoint.h5\n",
      "Epoch 7/10\n",
      "92/92 [==============================] - 1s 7ms/step - loss: 0.0022 - val_loss: 0.0040\n",
      "\n",
      "Epoch 00007: val_loss improved from 0.00433 to 0.00398, saving model to model_checkpoint.h5\n",
      "Epoch 8/10\n",
      "92/92 [==============================] - 1s 6ms/step - loss: 0.0021 - val_loss: 0.0039\n",
      "\n",
      "Epoch 00008: val_loss improved from 0.00398 to 0.00389, saving model to model_checkpoint.h5\n",
      "Epoch 9/10\n",
      "92/92 [==============================] - 1s 7ms/step - loss: 0.0020 - val_loss: 0.0039\n",
      "\n",
      "Epoch 00009: val_loss improved from 0.00389 to 0.00386, saving model to model_checkpoint.h5\n",
      "Epoch 10/10\n",
      "92/92 [==============================] - 1s 7ms/step - loss: 0.0019 - val_loss: 0.0038\n",
      "\n",
      "Epoch 00010: val_loss improved from 0.00386 to 0.00383, saving model to model_checkpoint.h5\n"
     ]
    }
   ],
   "source": [
    "path_checkpoint = \"model_checkpoint.h5\"\n",
    "es_callback = keras.callbacks.EarlyStopping(monitor=\"val_loss\", min_delta=0, patience=5)\n",
    "modelckpt_callback = keras.callbacks.ModelCheckpoint(\n",
    "    monitor=\"val_loss\",\n",
    "    filepath=path_checkpoint,\n",
    "    verbose=1,\n",
    "    save_weights_only=True,\n",
    "    save_best_only=True,\n",
    ")\n",
    "history = model.fit(\n",
    "    train_dataset,\n",
    "    epochs=epochs,\n",
    "    validation_data=test_dataset,\n",
    "    callbacks=[es_callback, modelckpt_callback],\n",
    ")"
   ]
  },
  {
   "cell_type": "code",
   "execution_count": 125,
   "id": "300d49f5",
   "metadata": {},
   "outputs": [
    {
     "data": {
      "image/png": "[encoded data removed]",
      "text/plain": [
       "<Figure size 432x288 with 1 Axes>"
      ]
     },
     "metadata": {
      "needs_background": "light"
     },
     "output_type": "display_data"
    }
   ],
   "source": [
    "trloss=history.history[\"loss\"]\n",
    "teloss=history.history[\"val_loss\"]\n",
    "real_epochs=range(len(trloss))\n",
    "plt.figure()\n",
    "plt.plot(real_epochs, trloss, \"b\", label=\"Training loss\")\n",
    "plt.plot(real_epochs, teloss, \"r\", label=\"Test loss\")\n",
    "plt.title('Training and Test Loss (MSE) for Humidity')\n",
    "plt.xlabel(\"Epochs\")\n",
    "plt.ylabel(\"Loss in MSE\")\n",
    "plt.legend()\n",
    "plt.savefig('humtraintest1.png')"
   ]
  },
  {
   "cell_type": "code",
   "execution_count": 126,
   "id": "21a47fc3",
   "metadata": {},
   "outputs": [
    {
     "data": {
      "image/png": "[encoded data removed]",
      "text/plain": [
       "<Figure size 432x288 with 1 Axes>"
      ]
     },
     "metadata": {
      "needs_background": "light"
     },
     "output_type": "display_data"
    }
   ],
   "source": [
    "plt.figure()\n",
    "plt.plot(model.predict(overall_dataset))\n",
    "plt.xlabel('timestep')\n",
    "plt.ylabel('humidity(normalized)')\n",
    "plt.title('Prediction of ChangeSha humidity from 2018 to 2020')\n",
    "plt.savefig('humpred.png')"
   ]
  },
  {
   "cell_type": "code",
   "execution_count": 127,
   "id": "e9a6641a",
   "metadata": {},
   "outputs": [
    {
     "data": {
      "image/png": "[encoded data removed]",
      "text/plain": [
       "<Figure size 432x288 with 1 Axes>"
      ]
     },
     "metadata": {
      "needs_background": "light"
     },
     "output_type": "display_data"
    }
   ],
   "source": [
    "plt.figure()\n",
    "plt.plot(Nomcs['湿度'])\n",
    "plt.xlabel('timestep')\n",
    "plt.ylabel('humidity(normalized)')\n",
    "plt.title('True ChangeSha humidity from 2018 to 2020')\n",
    "plt.savefig('humtrue.png')"
   ]
  },
  {
   "cell_type": "code",
   "execution_count": null,
   "id": "92362aa9",
   "metadata": {},
   "outputs": [],
   "source": []
  }
 ],
 "metadata": {
  "kernelspec": {
   "display_name": "Python 3 (ipykernel)",
   "language": "python",
   "name": "python3"
  },
  "language_info": {
   "codemirror_mode": {
    "name": "ipython",
    "version": 3
   },
   "file_extension": ".py",
   "mimetype": "text/x-python",
   "name": "python",
   "nbconvert_exporter": "python",
   "pygments_lexer": "ipython3",
   "version": "3.9.5"
  }
 },
 "nbformat": 4,
 "nbformat_minor": 5
}
